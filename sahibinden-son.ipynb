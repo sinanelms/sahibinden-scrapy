{
 "cells": [
  {
   "cell_type": "code",
   "execution_count": 1,
   "metadata": {},
   "outputs": [
    {
     "data": {
      "text/plain": [
       "'Turkish_Turkey.1254'"
      ]
     },
     "execution_count": 1,
     "metadata": {},
     "output_type": "execute_result"
    }
   ],
   "source": [
    "from selenium import webdriver\n",
    "from selenium.webdriver.common.keys import Keys\n",
    "from selenium.webdriver.chrome.options import Options\n",
    "from fake_useragent import UserAgent\n",
    "import time,random,sys\n",
    "from bs4 import BeautifulSoup\n",
    "import datetime\n",
    "import locale,requests\n",
    "locale.setlocale(locale.LC_ALL, '')\n"
   ]
  },
  {
   "cell_type": "code",
   "execution_count": 2,
   "metadata": {},
   "outputs": [],
   "source": [
    "def temizle(ilan):    \n",
    "    ilan = ilan.replace(\"                \\t\",\"\").replace(\"\\n                        \",\"\").replace(\"\\n                    \",\"\")\n",
    "    ilan =ilan.replace(\"\\n                \",\"\").replace(\"\\n            \",\"\").replace(\"\\xa0\",\"\").replace(\"\\n\",\"\")\n",
    "    return ilan\n",
    "def sure(a):\n",
    "    gun = int(a //(24*3600))\n",
    "    zaman= a% (24*3600)\n",
    "    saat = int(zaman//3600)\n",
    "    zaman %= 3600\n",
    "    dakika =int(zaman //60)\n",
    "    zaman %=60\n",
    "    saniye = int(zaman)\n",
    "    return \" {} gun {} saat {} dakika {} saniyede bitti.\".format(gun,saat,dakika,saniye)\n",
    "def bugun():\n",
    "    an = datetime.datetime.now()\n",
    "    gun =datetime.datetime.strftime(an, '%d')\n",
    "    ay =datetime.datetime.strftime(an, '%B')\n",
    "    tarih =gun + \" \" +ay\n",
    "    return tarih\n",
    "def tarih_kayit():\n",
    "    with open(\"son_run.txt\", \"w\",encoding=\"utf-8\") as txt_file:    \n",
    "        son_calistirma=bugun() \n",
    "        txt_file.write(son_calistirma)\n",
    "def tarihal(al):\n",
    "    gunler=[]\n",
    "    f= open(\"son_run.txt\", \"r\", encoding = \"utf-8\")\n",
    "    oku =f.read() + \" 2020\"\n",
    "    gun,ay,yil =oku.split()\n",
    "    geri = al\n",
    "    if not geri == al:\n",
    "        for a in range(al+1):\n",
    "            gunler.append(str(geri)+\" \"+ ay)\n",
    "            geri -=1\n",
    "            #time.sleep(1)\n",
    "            if geri ==int(gun):\n",
    "                break\n",
    "    gunler.append(str(gun)+\" \"+ ay)\n",
    "    return gunler\n",
    "def harmanla():\n",
    "    f=open(\"yeni.csv\",\"r\",encoding=\"utf-8\")\n",
    "    veriler= f.read().split(\"\\n\")\n",
    "    hedef=set()\n",
    "    for veri in veriler[:-1]:\n",
    "        veri =veri.split(\"\\t\")\n",
    "        kume= (veri[0],veri[1],veri[2],veri[3],veri[4],veri[5],veri[6],veri[7],veri[8])\n",
    "        hedef.add(kume)\n",
    "    #hedef.add(ekle)\n",
    "    return hedef\n",
    "\n",
    "def kayit(bilgiler):\n",
    "    with open(\"yeni.csv\", \"w\",encoding=\"utf-8\") as txt_file:    \n",
    "        for line in bilgiler:\n",
    "            txt_file.write(str(line[0]) +\"\\t\" +str(line[1]) +\"\\t\" +str(line[2]) +\"\\t\" +str(line[3]) +\"\\t\" +str(line[4]) +\"\\t\" +str(line[5]) +\"\\t\" +str(line[6]) +\"\\t\" +str(line[7])+ \"\\t\" +str(line[8])+\"\\n\")\n",
    "    with open(\"yeni.txt\", \"w\",encoding=\"utf-8\") as txt_file:    \n",
    "        for line in bilgiler:\n",
    "            txt_file.write(str(line)+\"\\n\")     "
   ]
  },
  {
   "cell_type": "code",
   "execution_count": 3,
   "metadata": {},
   "outputs": [],
   "source": [
    "page = \"https://www.sahibinden.com\"\n",
    "f = open(\"araba_markalari_altsayfalar.txt\", \"r\")\n",
    "satirlar = f.read().split('\\n')\n",
    "satirlar = random.sample(satirlar, len(satirlar))"
   ]
  },
  {
   "cell_type": "code",
   "execution_count": 4,
   "metadata": {},
   "outputs": [],
   "source": [
    "def verileriGetir():\n",
    "    tarih_kayit()\n",
    "    deneme = 0 \n",
    "    while True:\n",
    "        print(bugun())\n",
    "        say=0\n",
    "        basla =time.time()    \n",
    "\n",
    "        options = Options()  \n",
    "        options.add_argument(\"--headless\")\n",
    "        driver = webdriver.Chrome(options=options)\n",
    "        \n",
    "        bilgiler =harmanla()\n",
    "#         hata = set()\n",
    "        deneme +=1\n",
    "        for satir in satirlar:         \n",
    "            for sayfa in range(0,251,50):            \n",
    "#               yeniurl = page +satir +\"?pagingOffset=\" +str(sayfa)+ \"&pagingSize=50&sorting=date_desc\" \n",
    "                yeniurl = page +satir +\"?viewType=Classic&pagingOffset=\" +str(sayfa)+ \"&pagingSize=50&sorting=date_desc\" \n",
    "                #https://www.sahibinden.com/alfa-romeo-156?viewType=Classic&pagingOffset=50&pagingSize=50\n",
    "                #https://www.sahibinden.com/alfa-romeo-156?viewType=Classic&pagingOffset=100&pagingSize=50\n",
    "#                https://www.sahibinden.com/alfa-romeo-156\n",
    "                say += 1\n",
    "    \n",
    "#                 if (say % 20)==0:\n",
    "#                     time.sleep(5)\n",
    "                    \n",
    "                driver.get(yeniurl)\n",
    "#                 rastgele = random.randint(1,6) \n",
    "#                 time.sleep(rastgele) \n",
    "                source = BeautifulSoup(driver.page_source,\"lxml\")               \n",
    "                hepsi = source.select('tr.searchResultsItem:not(.nativeAd, .classicNativeAd)')            \n",
    "                if (source.find(\"div\",attrs ={\"id\":\"qr-error-footer\"})):\n",
    "                    driver.delete_all_cookies()\n",
    "#                     print(\" Deneme: \"+ str(deneme) + \" ==>  \" + str(say) + \" ==>  \" +yeniurl)\n",
    "#                     hata.add(yeniurl)\n",
    "\n",
    "                    for i in range(301):                \n",
    "                        i +=1\n",
    "                        sys.stdout.write(\"Olağan dışı erişim tespit ettik...\" + str(301 -i)+ \" saniye sonra tekrar deneyeceğim \" +\"\\r\")\n",
    "                        #sys.stdout.flush()\n",
    "                        time.sleep(1)                  \n",
    "\n",
    "                else:\n",
    "                    sys.stdout.write(\" Deneme: \"+ str(deneme) + \" ==>  \" + str(say) + \" ==>  \" +yeniurl + \"\\r\")\n",
    "                    #sys.stdout.flush()\n",
    "                for araba in hepsi:\n",
    "                    alan = araba.find_all(\"td\",attrs ={\"class\":\"searchResultsDateValue\"})[0].find(\"span\").text\n",
    "                    #if alan == bugun():\n",
    "                    myid= araba.find(\"div\", attrs={\"class\":\"action-wrapper\"}).get(\"data-classified-id\")\n",
    "                    ust_baslik = source.find_all(\"a\",attrs ={\"class\":\"sprite breadcrumbItem\"})[3].text\n",
    "                    alt_baslik =  source.find_all(\"a\",attrs ={\"class\":\"sprite breadcrumbItem\"})[4].text\n",
    "                    if not araba.find_all(\"td\",attrs ={\"class\":\"searchResultsTagAttributeValue\"}):\n",
    "                        model = \"null\"\n",
    "                    else:\n",
    "                        model =araba.find_all(\"td\",attrs ={\"class\":\"searchResultsTagAttributeValue\"})[0].text\n",
    "                    yil = araba.find_all(\"td\",attrs ={\"class\":\"searchResultsAttributeValue\"})[0].text\n",
    "                    km = araba.find_all(\"td\",attrs ={\"class\":\"searchResultsAttributeValue\"})[1].text\n",
    "                    renk = araba.find_all(\"td\",attrs ={\"class\":\"searchResultsAttributeValue\"})[2].text\n",
    "                    fiyat = araba.find_all(\"td\",attrs ={\"class\":\"searchResultsPriceValue\"})[0].text\n",
    "                    ilanTarih =araba.find_all(\"td\",attrs ={\"class\":\"searchResultsDateValue\"})[0].text\n",
    "                    satısYeri =araba.find_all(\"td\",attrs ={\"class\":\"searchResultsLocationValue\"})[0].text\n",
    "                    myid =temizle(myid)\n",
    "                    ust_baslik =temizle(ust_baslik)\n",
    "                    alt_baslik=temizle(alt_baslik)\n",
    "                    model =temizle(model)\n",
    "                    yil = temizle(yil)\n",
    "                    km = temizle(km)\n",
    "                    renk = temizle(renk)\n",
    "                    fiyat =temizle(fiyat)\n",
    "                    ilanTarih = temizle(ilanTarih)\n",
    "                    satısYeri =temizle(satısYeri)\n",
    "                    #bilg = ust_baslik+\"\\t\"  + alt_baslik+\"\\t\"  + model+\"\\t\"  + yil+\"\\t\"  + km +\"\\t\" + renk+\"\\t\"  + fiyat +\"\\t\"+ilanTarih +\"\\t\" +satısYeri\n",
    "                    bilgi = (myid,ust_baslik,alt_baslik,model, yil, km,renk,fiyat,ilanTarih,satısYeri)\n",
    "                    bilgiler.add(bilgi)\n",
    "                    #print(bilg)\n",
    "            \n",
    "                if not(source.find(\"ul\",attrs ={\"class\":\"pageNaviButtons\"})):    \n",
    "                    son_sayfa = source.find(\"ul\",attrs ={\"class\":\"pageNaviButtons\"})    \n",
    "                    break\n",
    "            \n",
    "\n",
    "        kalan = len(bilgiler)-len(harmanla())\n",
    "        kayit(bilgiler)\n",
    "        driver.delete_all_cookies()\n",
    "        driver.quit()\n",
    "        \n",
    "        \n",
    "        son = time.time()\n",
    "        a = (son)-(basla)\n",
    "        sure(a)\n",
    "        print(\"Deneme:\"+ str(deneme)+\"==>  \"+str(say)+\" işlem\"+sure(a)+ \" Eklenen veri: \"+ str(kalan) + \" tane.                \")\n"
   ]
  },
  {
   "cell_type": "code",
   "execution_count": null,
   "metadata": {},
   "outputs": [
    {
     "name": "stdout",
     "output_type": "stream",
     "text": [
      "04 Temmuz\n",
      "Deneme:1==>  1107 işlem 1 gun 2 saat 53 dakika 22 saniyede bitti. Eklenen veri: 28426 tane.                ngSize=50&sorting=date_descdescccescsc\n",
      "05 Temmuz\n",
      "Deneme:2==>  1277 işlem 0 gun 19 saat 33 dakika 49 saniyede bitti. Eklenen veri: 38252 tane.                gSize=50&sorting=date_descdescsccscsc\n",
      "06 Temmuz\n",
      "Olağan dışı erişim tespit ettik...82 saniye sonra tekrar deneyeceğim  =Classic&pagingOffset=0&pagingSize=50&sorting=date_descng=date_desccccescsc\r"
     ]
    }
   ],
   "source": [
    "def attempts():\n",
    "    while True:\n",
    "        try:\n",
    "            verileriGetir()\n",
    "            break #breaks the loop when sucessful\n",
    "        except ValueError:\n",
    "            attempts() #recalls this function, starting back at the try statement\n",
    "            break\n",
    "attempts()"
   ]
  },
  {
   "cell_type": "code",
   "execution_count": null,
   "metadata": {},
   "outputs": [],
   "source": []
  },
  {
   "cell_type": "code",
   "execution_count": null,
   "metadata": {},
   "outputs": [],
   "source": []
  },
  {
   "cell_type": "code",
   "execution_count": null,
   "metadata": {},
   "outputs": [],
   "source": []
  },
  {
   "cell_type": "code",
   "execution_count": null,
   "metadata": {},
   "outputs": [],
   "source": []
  },
  {
   "cell_type": "code",
   "execution_count": null,
   "metadata": {},
   "outputs": [],
   "source": []
  },
  {
   "cell_type": "code",
   "execution_count": null,
   "metadata": {},
   "outputs": [],
   "source": []
  },
  {
   "cell_type": "code",
   "execution_count": 4,
   "metadata": {},
   "outputs": [],
   "source": []
  },
  {
   "cell_type": "code",
   "execution_count": 11,
   "metadata": {},
   "outputs": [],
   "source": [
    "url1 = \"https://www.sahibinden.com/sitemap/search/categories1.xml\"\n",
    "url2 = \"https://www.sahibinden.com/sitemap/search/categories0.xml\"\n",
    "url3 = \"https://www.sahibinden.com/sitemap/categories/categories1.xml\"\n",
    "url4 = \"https://www.sahibinden.com/sitemap/categories/categories0.xml\"\n",
    "sifir_arac =\"https://www.sahibinden.com/sitemap/oto360/sifir-araclar0.xml\"\n",
    "headers={'user-agent':'Mozilla/5.0 (Windows NT 10.0; Win64; x64) AppleWebKit/537.36 (KHTML, like Gecko) Chrome/78.0.3904.108 Safari/537.36'}\n",
    "req = requests.get(\"https://www.sahibinden.com/sitemap/search/categories1.xml\", headers=headers)\n",
    "context = req.content\n",
    "soup = BeautifulSoup(context, \"html.parser\")"
   ]
  },
  {
   "cell_type": "code",
   "execution_count": 13,
   "metadata": {},
   "outputs": [],
   "source": [
    "hepsi = soup.find_all(\"url\")"
   ]
  },
  {
   "cell_type": "code",
   "execution_count": 14,
   "metadata": {},
   "outputs": [
    {
     "data": {
      "text/plain": [
       "15000"
      ]
     },
     "execution_count": 14,
     "metadata": {},
     "output_type": "execute_result"
    }
   ],
   "source": [
    "len(hepsi)"
   ]
  },
  {
   "cell_type": "code",
   "execution_count": null,
   "metadata": {},
   "outputs": [],
   "source": []
  }
 ],
 "metadata": {
  "kernelspec": {
   "display_name": "Python 3",
   "language": "python",
   "name": "python3"
  },
  "language_info": {
   "codemirror_mode": {
    "name": "ipython",
    "version": 3
   },
   "file_extension": ".py",
   "mimetype": "text/x-python",
   "name": "python",
   "nbconvert_exporter": "python",
   "pygments_lexer": "ipython3",
   "version": "3.8.5"
  }
 },
 "nbformat": 4,
 "nbformat_minor": 4
}
